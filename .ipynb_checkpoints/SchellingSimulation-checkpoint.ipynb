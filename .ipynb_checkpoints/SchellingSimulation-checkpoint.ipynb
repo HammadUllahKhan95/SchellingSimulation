{
 "cells": [
  {
   "cell_type": "code",
   "execution_count": 1,
   "id": "f11adae2",
   "metadata": {},
   "outputs": [],
   "source": [
    "import numpy as np\n",
    "import matplotlib.pyplot as plt\n"
   ]
  },
  {
   "cell_type": "code",
   "execution_count": 2,
   "id": "dd1f5e6c",
   "metadata": {},
   "outputs": [],
   "source": [
    "N = 25\n",
    "E = 0.05\n",
    "t = 0.55\n"
   ]
  },
  {
   "cell_type": "code",
   "execution_count": 3,
   "id": "a134ca53",
   "metadata": {},
   "outputs": [
    {
     "name": "stdout",
     "output_type": "stream",
     "text": [
      "296\n"
     ]
    }
   ],
   "source": [
    "no_agents = int((1-E)/2*N**2)\n",
    "print(no_agents)"
   ]
  },
  {
   "cell_type": "code",
   "execution_count": 4,
   "id": "31753150",
   "metadata": {},
   "outputs": [
    {
     "name": "stdout",
     "output_type": "stream",
     "text": [
      "33\n"
     ]
    }
   ],
   "source": [
    "no_empty = N**2-2*no_agents\n",
    "print(no_empty)"
   ]
  },
  {
   "cell_type": "code",
   "execution_count": 5,
   "id": "47376b90",
   "metadata": {},
   "outputs": [
    {
     "name": "stdout",
     "output_type": "stream",
     "text": [
      "[0, 0, 0, 0, 0, 0, 0, 0, 0, 0, 0, 0, 0, 0, 0, 0, 0, 0, 0, 0, 0, 0, 0, 0, 0, 0, 0, 0, 0, 0, 0, 0, 0, 1, 1, 1, 1, 1, 1, 1, 1, 1, 1, 1, 1, 1, 1, 1, 1, 1, 1, 1, 1, 1, 1, 1, 1, 1, 1, 1, 1, 1, 1, 1, 1, 1, 1, 1, 1, 1, 1, 1, 1, 1, 1, 1, 1, 1, 1, 1, 1, 1, 1, 1, 1, 1, 1, 1, 1, 1, 1, 1, 1, 1, 1, 1, 1, 1, 1, 1, 1, 1, 1, 1, 1, 1, 1, 1, 1, 1, 1, 1, 1, 1, 1, 1, 1, 1, 1, 1, 1, 1, 1, 1, 1, 1, 1, 1, 1, 1, 1, 1, 1, 1, 1, 1, 1, 1, 1, 1, 1, 1, 1, 1, 1, 1, 1, 1, 1, 1, 1, 1, 1, 1, 1, 1, 1, 1, 1, 1, 1, 1, 1, 1, 1, 1, 1, 1, 1, 1, 1, 1, 1, 1, 1, 1, 1, 1, 1, 1, 1, 1, 1, 1, 1, 1, 1, 1, 1, 1, 1, 1, 1, 1, 1, 1, 1, 1, 1, 1, 1, 1, 1, 1, 1, 1, 1, 1, 1, 1, 1, 1, 1, 1, 1, 1, 1, 1, 1, 1, 1, 1, 1, 1, 1, 1, 1, 1, 1, 1, 1, 1, 1, 1, 1, 1, 1, 1, 1, 1, 1, 1, 1, 1, 1, 1, 1, 1, 1, 1, 1, 1, 1, 1, 1, 1, 1, 1, 1, 1, 1, 1, 1, 1, 1, 1, 1, 1, 1, 1, 1, 1, 1, 1, 1, 1, 1, 1, 1, 1, 1, 1, 1, 1, 1, 1, 1, 1, 1, 1, 1, 1, 1, 1, 1, 1, 1, 1, 1, 1, 1, 1, 1, 1, 1, 1, 1, 1, 1, 1, 1, 1, 1, 1, 1, 1, 1, 1, 1, 1, 1, 1, 1, 1, 1, 1, 1, 1, 1, 2, 2, 2, 2, 2, 2, 2, 2, 2, 2, 2, 2, 2, 2, 2, 2, 2, 2, 2, 2, 2, 2, 2, 2, 2, 2, 2, 2, 2, 2, 2, 2, 2, 2, 2, 2, 2, 2, 2, 2, 2, 2, 2, 2, 2, 2, 2, 2, 2, 2, 2, 2, 2, 2, 2, 2, 2, 2, 2, 2, 2, 2, 2, 2, 2, 2, 2, 2, 2, 2, 2, 2, 2, 2, 2, 2, 2, 2, 2, 2, 2, 2, 2, 2, 2, 2, 2, 2, 2, 2, 2, 2, 2, 2, 2, 2, 2, 2, 2, 2, 2, 2, 2, 2, 2, 2, 2, 2, 2, 2, 2, 2, 2, 2, 2, 2, 2, 2, 2, 2, 2, 2, 2, 2, 2, 2, 2, 2, 2, 2, 2, 2, 2, 2, 2, 2, 2, 2, 2, 2, 2, 2, 2, 2, 2, 2, 2, 2, 2, 2, 2, 2, 2, 2, 2, 2, 2, 2, 2, 2, 2, 2, 2, 2, 2, 2, 2, 2, 2, 2, 2, 2, 2, 2, 2, 2, 2, 2, 2, 2, 2, 2, 2, 2, 2, 2, 2, 2, 2, 2, 2, 2, 2, 2, 2, 2, 2, 2, 2, 2, 2, 2, 2, 2, 2, 2, 2, 2, 2, 2, 2, 2, 2, 2, 2, 2, 2, 2, 2, 2, 2, 2, 2, 2, 2, 2, 2, 2, 2, 2, 2, 2, 2, 2, 2, 2, 2, 2, 2, 2, 2, 2, 2, 2, 2, 2, 2, 2, 2, 2, 2, 2, 2, 2, 2, 2, 2, 2, 2, 2, 2, 2, 2, 2, 2, 2, 2, 2, 2, 2, 2, 2, 2, 2, 2, 2, 2, 2, 2, 2, 2, 2, 2, 2, 2, 2, 2, 2, 2, 2, 2, 2, 2, 2, 2, 2]\n"
     ]
    }
   ],
   "source": [
    "a = [0]*no_empty+[1]*no_agents+[2]*no_agents\n",
    "print(a)"
   ]
  },
  {
   "cell_type": "code",
   "execution_count": 6,
   "id": "52a33d65",
   "metadata": {
    "scrolled": true
   },
   "outputs": [
    {
     "name": "stdout",
     "output_type": "stream",
     "text": [
      "[0, 1, 1, 1, 1, 1, 1, 2, 2, 2, 2, 2, 1, 1, 2, 0, 0, 1, 2, 1, 1, 1, 1, 1, 1, 2, 2, 2, 1, 2, 1, 2, 1, 1, 2, 2, 0, 2, 2, 1, 1, 1, 1, 1, 1, 2, 1, 2, 2, 2, 2, 1, 2, 2, 1, 1, 1, 1, 1, 1, 1, 2, 1, 2, 1, 2, 2, 1, 1, 1, 1, 1, 2, 1, 1, 1, 2, 1, 1, 0, 2, 1, 1, 1, 2, 2, 2, 1, 1, 2, 2, 2, 2, 1, 2, 2, 2, 2, 0, 2, 1, 2, 2, 2, 1, 1, 1, 1, 1, 1, 2, 2, 2, 0, 2, 1, 2, 2, 2, 2, 1, 2, 1, 2, 2, 1, 1, 2, 1, 2, 1, 2, 1, 1, 1, 2, 1, 1, 1, 2, 1, 1, 2, 2, 1, 2, 1, 1, 2, 1, 1, 0, 2, 1, 1, 1, 2, 2, 1, 2, 2, 1, 1, 1, 2, 2, 1, 2, 1, 1, 2, 2, 2, 2, 1, 1, 1, 1, 2, 1, 2, 2, 1, 2, 1, 0, 2, 2, 1, 2, 2, 2, 2, 1, 2, 2, 2, 1, 1, 1, 0, 1, 2, 2, 2, 2, 1, 1, 0, 1, 2, 2, 2, 1, 2, 1, 1, 1, 2, 1, 2, 2, 1, 1, 2, 2, 1, 1, 1, 2, 2, 1, 1, 2, 1, 1, 2, 1, 2, 2, 1, 2, 1, 2, 2, 2, 2, 2, 1, 1, 1, 2, 1, 1, 2, 1, 1, 0, 1, 2, 2, 2, 2, 2, 2, 1, 1, 1, 2, 2, 2, 1, 2, 2, 1, 2, 1, 1, 1, 2, 1, 1, 2, 2, 0, 2, 2, 2, 2, 1, 1, 2, 1, 1, 1, 1, 1, 2, 2, 1, 2, 1, 1, 2, 1, 1, 1, 1, 2, 0, 2, 2, 1, 2, 1, 2, 1, 2, 2, 2, 2, 2, 2, 1, 2, 2, 2, 2, 2, 1, 2, 1, 2, 1, 1, 2, 2, 1, 2, 2, 1, 1, 1, 2, 1, 1, 1, 1, 2, 2, 1, 2, 1, 2, 0, 2, 2, 2, 2, 1, 1, 0, 1, 1, 2, 2, 1, 2, 1, 2, 2, 2, 1, 1, 2, 1, 1, 1, 2, 2, 1, 1, 2, 2, 2, 1, 2, 2, 2, 0, 1, 1, 2, 1, 1, 2, 2, 2, 1, 2, 2, 1, 0, 1, 2, 2, 1, 2, 1, 1, 2, 1, 0, 2, 2, 1, 1, 1, 2, 1, 2, 2, 1, 1, 1, 0, 2, 1, 2, 2, 0, 2, 2, 1, 2, 1, 1, 1, 1, 1, 2, 1, 1, 1, 1, 2, 2, 2, 1, 1, 2, 1, 2, 1, 1, 1, 1, 1, 2, 1, 1, 1, 1, 2, 1, 2, 2, 0, 1, 2, 0, 1, 2, 0, 1, 2, 1, 2, 2, 1, 2, 2, 1, 2, 0, 2, 0, 2, 0, 1, 2, 1, 2, 2, 2, 2, 2, 1, 2, 1, 2, 1, 2, 2, 1, 2, 2, 2, 1, 2, 1, 2, 1, 0, 1, 2, 2, 2, 1, 1, 2, 1, 2, 1, 1, 2, 2, 2, 1, 2, 2, 1, 1, 2, 2, 1, 1, 2, 2, 2, 1, 2, 2, 2, 2, 2, 1, 1, 2, 1, 1, 1, 2, 1, 0, 2, 1, 1, 2, 0, 2, 1, 1, 1, 1, 2, 1, 1, 1, 2, 1, 0, 2, 2, 2, 2, 2, 1, 1, 2, 2, 2, 2, 2, 1, 1, 1, 2, 1, 1, 2, 2, 1, 2, 1, 1, 1, 2, 1, 2, 2, 1, 2, 2, 1, 1, 1, 1, 1, 0, 1, 1, 1, 2, 1, 2, 2, 2, 2, 1, 0, 1, 2, 1, 2]\n"
     ]
    }
   ],
   "source": [
    "np.random.shuffle(a)\n",
    "print(a)"
   ]
  },
  {
   "cell_type": "code",
   "execution_count": 7,
   "id": "7f7d7132",
   "metadata": {},
   "outputs": [
    {
     "data": {
      "text/plain": [
       "list"
      ]
     },
     "execution_count": 7,
     "metadata": {},
     "output_type": "execute_result"
    }
   ],
   "source": [
    "type(a)"
   ]
  },
  {
   "cell_type": "code",
   "execution_count": 8,
   "id": "f4204143",
   "metadata": {
    "scrolled": true
   },
   "outputs": [
    {
     "data": {
      "text/plain": [
       "array([[0, 1, 1, 1, 1, 1, 1, 2, 2, 2, 2, 2, 1, 1, 2, 0, 0, 1, 2, 1, 1, 1,\n",
       "        1, 1, 1],\n",
       "       [2, 2, 2, 1, 2, 1, 2, 1, 1, 2, 2, 0, 2, 2, 1, 1, 1, 1, 1, 1, 2, 1,\n",
       "        2, 2, 2],\n",
       "       [2, 1, 2, 2, 1, 1, 1, 1, 1, 1, 1, 2, 1, 2, 1, 2, 2, 1, 1, 1, 1, 1,\n",
       "        2, 1, 1],\n",
       "       [1, 2, 1, 1, 0, 2, 1, 1, 1, 2, 2, 2, 1, 1, 2, 2, 2, 2, 1, 2, 2, 2,\n",
       "        2, 0, 2],\n",
       "       [1, 2, 2, 2, 1, 1, 1, 1, 1, 1, 2, 2, 2, 0, 2, 1, 2, 2, 2, 2, 1, 2,\n",
       "        1, 2, 2],\n",
       "       [1, 1, 2, 1, 2, 1, 2, 1, 1, 1, 2, 1, 1, 1, 2, 1, 1, 2, 2, 1, 2, 1,\n",
       "        1, 2, 1],\n",
       "       [1, 0, 2, 1, 1, 1, 2, 2, 1, 2, 2, 1, 1, 1, 2, 2, 1, 2, 1, 1, 2, 2,\n",
       "        2, 2, 1],\n",
       "       [1, 1, 1, 2, 1, 2, 2, 1, 2, 1, 0, 2, 2, 1, 2, 2, 2, 2, 1, 2, 2, 2,\n",
       "        1, 1, 1],\n",
       "       [0, 1, 2, 2, 2, 2, 1, 1, 0, 1, 2, 2, 2, 1, 2, 1, 1, 1, 2, 1, 2, 2,\n",
       "        1, 1, 2],\n",
       "       [2, 1, 1, 1, 2, 2, 1, 1, 2, 1, 1, 2, 1, 2, 2, 1, 2, 1, 2, 2, 2, 2,\n",
       "        2, 1, 1],\n",
       "       [1, 2, 1, 1, 2, 1, 1, 0, 1, 2, 2, 2, 2, 2, 2, 1, 1, 1, 2, 2, 2, 1,\n",
       "        2, 2, 1],\n",
       "       [2, 1, 1, 1, 2, 1, 1, 2, 2, 0, 2, 2, 2, 2, 1, 1, 2, 1, 1, 1, 1, 1,\n",
       "        2, 2, 1],\n",
       "       [2, 1, 1, 2, 1, 1, 1, 1, 2, 0, 2, 2, 1, 2, 1, 2, 1, 2, 2, 2, 2, 2,\n",
       "        2, 1, 2],\n",
       "       [2, 2, 2, 2, 1, 2, 1, 2, 1, 1, 2, 2, 1, 2, 2, 1, 1, 1, 2, 1, 1, 1,\n",
       "        1, 2, 2],\n",
       "       [1, 2, 1, 2, 0, 2, 2, 2, 2, 1, 1, 0, 1, 1, 2, 2, 1, 2, 1, 2, 2, 2,\n",
       "        1, 1, 2],\n",
       "       [1, 1, 1, 2, 2, 1, 1, 2, 2, 2, 1, 2, 2, 2, 0, 1, 1, 2, 1, 1, 2, 2,\n",
       "        2, 1, 2],\n",
       "       [2, 1, 0, 1, 2, 2, 1, 2, 1, 1, 2, 1, 0, 2, 2, 1, 1, 1, 2, 1, 2, 2,\n",
       "        1, 1, 1],\n",
       "       [0, 2, 1, 2, 2, 0, 2, 2, 1, 2, 1, 1, 1, 1, 1, 2, 1, 1, 1, 1, 2, 2,\n",
       "        2, 1, 1],\n",
       "       [2, 1, 2, 1, 1, 1, 1, 1, 2, 1, 1, 1, 1, 2, 1, 2, 2, 0, 1, 2, 0, 1,\n",
       "        2, 0, 1],\n",
       "       [2, 1, 2, 2, 1, 2, 2, 1, 2, 0, 2, 0, 2, 0, 1, 2, 1, 2, 2, 2, 2, 2,\n",
       "        1, 2, 1],\n",
       "       [2, 1, 2, 2, 1, 2, 2, 2, 1, 2, 1, 2, 1, 0, 1, 2, 2, 2, 1, 1, 2, 1,\n",
       "        2, 1, 1],\n",
       "       [2, 2, 2, 1, 2, 2, 1, 1, 2, 2, 1, 1, 2, 2, 2, 1, 2, 2, 2, 2, 2, 1,\n",
       "        1, 2, 1],\n",
       "       [1, 1, 2, 1, 0, 2, 1, 1, 2, 0, 2, 1, 1, 1, 1, 2, 1, 1, 1, 2, 1, 0,\n",
       "        2, 2, 2],\n",
       "       [2, 2, 1, 1, 2, 2, 2, 2, 2, 1, 1, 1, 2, 1, 1, 2, 2, 1, 2, 1, 1, 1,\n",
       "        2, 1, 2],\n",
       "       [2, 1, 2, 2, 1, 1, 1, 1, 1, 0, 1, 1, 1, 2, 1, 2, 2, 2, 2, 1, 0, 1,\n",
       "        2, 1, 2]])"
      ]
     },
     "execution_count": 8,
     "metadata": {},
     "output_type": "execute_result"
    }
   ],
   "source": [
    "a = np.reshape(a,(N,N))\n",
    "a"
   ]
  },
  {
   "cell_type": "code",
   "execution_count": 9,
   "id": "965f1d52",
   "metadata": {},
   "outputs": [
    {
     "data": {
      "text/plain": [
       "numpy.ndarray"
      ]
     },
     "execution_count": 9,
     "metadata": {},
     "output_type": "execute_result"
    }
   ],
   "source": [
    "type(a)"
   ]
  },
  {
   "cell_type": "code",
   "execution_count": 10,
   "id": "9244f0a4",
   "metadata": {},
   "outputs": [
    {
     "data": {
      "text/plain": [
       "27"
      ]
     },
     "execution_count": 10,
     "metadata": {},
     "output_type": "execute_result"
    }
   ],
   "source": [
    "b = np.zeros((N+2,N+2))\n",
    "b.shape[0]"
   ]
  },
  {
   "cell_type": "code",
   "execution_count": 11,
   "id": "365735a3",
   "metadata": {
    "scrolled": true
   },
   "outputs": [
    {
     "data": {
      "text/plain": [
       "27"
      ]
     },
     "execution_count": 11,
     "metadata": {},
     "output_type": "execute_result"
    }
   ],
   "source": [
    "b[1:-1,1:-1] = a\n",
    "b.shape[0]"
   ]
  },
  {
   "cell_type": "code",
   "execution_count": 12,
   "id": "08c01044",
   "metadata": {},
   "outputs": [],
   "source": [
    "def satisfaction(a,ypos,xpos):\n",
    "    neighb = a[ypos-1:ypos+2,xpos-1:xpos+2]\n",
    "    guy = neighb[1,1]\n",
    "    count1 = 0\n",
    "    count2 = 0\n",
    "    for i in range(3):\n",
    "        for j in range(3):\n",
    "            if i == 1 and j == 1:\n",
    "                continue\n",
    "            if neighb[i,j] == 1:\n",
    "                count1+=1\n",
    "            if neighb[i,j] ==2:\n",
    "                count2+=1\n",
    "    if count1+count2 == 0:\n",
    "        return 0\n",
    "    if guy == 1:\n",
    "        return count1/(count1+count2)\n",
    "    if guy == 2:\n",
    "        return count2/(count1+count2)    "
   ]
  },
  {
   "cell_type": "code",
   "execution_count": 13,
   "id": "a013bcdd",
   "metadata": {
    "scrolled": true
   },
   "outputs": [
    {
     "data": {
      "text/plain": [
       "0.25"
      ]
     },
     "execution_count": 13,
     "metadata": {},
     "output_type": "execute_result"
    }
   ],
   "source": [
    "satisfaction(b,3,2)"
   ]
  },
  {
   "cell_type": "code",
   "execution_count": 14,
   "id": "73a2365b",
   "metadata": {},
   "outputs": [
    {
     "data": {
      "text/plain": [
       "25"
      ]
     },
     "execution_count": 14,
     "metadata": {},
     "output_type": "execute_result"
    }
   ],
   "source": [
    "a.shape[1]"
   ]
  },
  {
   "cell_type": "code",
   "execution_count": 15,
   "id": "fd71f57d",
   "metadata": {},
   "outputs": [],
   "source": [
    "def list_unsatisfied(a,t):\n",
    "    list2move = []\n",
    "    for i in range(a.shape[0]):\n",
    "        for j in range(a.shape[0]):\n",
    "            if a[i,j] > 0:\n",
    "                sad = satisfaction(a,i,j)\n",
    "                if sad < t:\n",
    "                    list2move.append((i,j))\n",
    "    return list2move"
   ]
  },
  {
   "cell_type": "code",
   "execution_count": 16,
   "id": "ac1395eb",
   "metadata": {},
   "outputs": [],
   "source": [
    "def list_empty(c):\n",
    "    list_em = []\n",
    "    for i in range(1,c.shape[0]-1):\n",
    "        for j in range(1,b.shape[0]-1):\n",
    "            if c[i,j] == 0:\n",
    "                list_em.append((i,j))\n",
    "    return list_em"
   ]
  },
  {
   "cell_type": "code",
   "execution_count": 17,
   "id": "c1c4ebd8",
   "metadata": {},
   "outputs": [
    {
     "data": {
      "text/plain": [
       "[(1, 1),\n",
       " (1, 16),\n",
       " (1, 17),\n",
       " (2, 12),\n",
       " (4, 5),\n",
       " (4, 24),\n",
       " (5, 14),\n",
       " (7, 2),\n",
       " (8, 11),\n",
       " (9, 1),\n",
       " (9, 9),\n",
       " (11, 8),\n",
       " (12, 10),\n",
       " (13, 10),\n",
       " (15, 5),\n",
       " (15, 12),\n",
       " (16, 15),\n",
       " (17, 3),\n",
       " (17, 13),\n",
       " (18, 1),\n",
       " (18, 6),\n",
       " (19, 18),\n",
       " (19, 21),\n",
       " (19, 24),\n",
       " (20, 10),\n",
       " (20, 12),\n",
       " (20, 14),\n",
       " (21, 14),\n",
       " (23, 5),\n",
       " (23, 10),\n",
       " (23, 22),\n",
       " (25, 10),\n",
       " (25, 21)]"
      ]
     },
     "execution_count": 17,
     "metadata": {},
     "output_type": "execute_result"
    }
   ],
   "source": [
    "list_empty(b)"
   ]
  },
  {
   "cell_type": "code",
   "execution_count": 18,
   "id": "7fd45bf7",
   "metadata": {},
   "outputs": [],
   "source": [
    "def move(c,unsatisfied):\n",
    "    for i in unsatisfied:\n",
    "        search_empty = list_empty(c)\n",
    "        chosen_empty = search_empty[int(np.random.rand()*len(search_empty))]\n",
    "        c[chosen_empty[0],chosen_empty[1]] = c[i[0],i[1]]\n",
    "        c[i[0],i[1]] = 0\n",
    "    return c"
   ]
  },
  {
   "cell_type": "code",
   "execution_count": 21,
   "id": "30709abc",
   "metadata": {
    "scrolled": false
   },
   "outputs": [],
   "source": [
    "counter = 0\n",
    "while list_unsatisfied(b,t):\n",
    "        b = move(b,list_unsatisfied(b,t))\n",
    "        counter+=1\n",
    "        plt.imshow(b)\n",
    "        plt.savefig(f'{str(counter).zfill(4)}.png')\n",
    "        plt.close()        "
   ]
  },
  {
   "cell_type": "code",
   "execution_count": null,
   "id": "969b1b6a",
   "metadata": {},
   "outputs": [],
   "source": [
    "print(list_unsatisfied(b,t))"
   ]
  },
  {
   "cell_type": "code",
   "execution_count": 74,
   "id": "819fd8a6",
   "metadata": {},
   "outputs": [
    {
     "data": {
      "text/plain": [
       "0.55"
      ]
     },
     "execution_count": 74,
     "metadata": {},
     "output_type": "execute_result"
    }
   ],
   "source": [
    "t"
   ]
  }
 ],
 "metadata": {
  "kernelspec": {
   "display_name": "Python 3 (ipykernel)",
   "language": "python",
   "name": "python3"
  },
  "language_info": {
   "codemirror_mode": {
    "name": "ipython",
    "version": 3
   },
   "file_extension": ".py",
   "mimetype": "text/x-python",
   "name": "python",
   "nbconvert_exporter": "python",
   "pygments_lexer": "ipython3",
   "version": "3.7.13"
  }
 },
 "nbformat": 4,
 "nbformat_minor": 5
}
